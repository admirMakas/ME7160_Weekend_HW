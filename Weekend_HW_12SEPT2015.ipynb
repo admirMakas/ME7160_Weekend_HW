{
 "cells": [
  {
   "cell_type": "markdown",
   "metadata": {},
   "source": [
    "# ME 7160 Nonlinear Dynamics Weekend HW1 12SEPT2015\n",
    "\n",
    "* Determine the potetial funtion (by integrating $F(u)$) and sketch it as a contour plot for the various scenarios (3 total). See notes at the end of Ch. 1.\n",
    "\n",
    "$$\\ddot{u}+u-\\frac{\\lambda}{a-u}=0$$\n",
    "\n",
    "**1. First we determine the 3 scenarios for the above function:**\n",
    "\n",
    " Set $\\ddot{u}=0$ to get the following expression: $u-\\frac{\\lambda}{a-u}=0$,   since this is a quadratic function the roots will come in the form of.\n",
    " \n",
    " $$\\frac{a}{2}\\pm\\frac{\\sqrt{a^{2}-4\\lambda}}{2}$$\n",
    " \n",
    " From this we can get the following 3 cases:  \n",
    "* $\\sqrt{a^{2}-4\\lambda}>0$ (2 real roots) so $a^{2}>4\\lambda$  \n",
    "* $\\sqrt{a^{2}-4\\lambda}=0$ (repeated roots) so $\\lambda=\\frac{a^{2}}{4}$  \n",
    "* $\\sqrt{a^{2}-4\\lambda}<0$ (imaginary roots) so $a^{2}<4\\lambda$  \n",
    "\n",
    "**2. Since we have the 3 conditions next potential function is determined:**\n",
    "\n",
    "  Starting with $\\ddot{u}+u-\\frac{\\lambda}{a-u}=0$, multiply by $\\dot{u}$ and integrate:\n",
    "  \n",
    "  $\\int \\ddot{u}\\dot{u}dt + \\int (u-\\frac{\\lambda}{a-u})\\dot{u}dt=h$  \n",
    "  \n",
    "  $\\int \\frac{d\\dot{u}}{dt}\\frac{du}{dt}dt + \\int (u-\\frac{\\lambda}{a-u})\\frac{du}{dt}dt=h$  \n",
    "  \n",
    "  $\\int \\dot{u}d\\dot{u} + \\int (u-\\frac{\\lambda}{a-u})du=h$  \n",
    "  \n",
    "  $\\frac{1}{2}\\dot{u}^{2} + \\frac{1}{2}u^{2} - \\lambda ln(a-u)=h$\n",
    "  \n",
    "  ### $h=\\frac{1}{2}\\dot{u}^{2} + \\frac{1}{2}u^{2} - \\lambda ln(a-u)$  \n",
    "  \n",
    "  The above expression is now used to generate the contour plots for the three cases.  \n",
    "  \n",
    "  For the term $ln(a-u)$ absolute values are only considered.  "
   ]
  },
  {
   "cell_type": "code",
   "execution_count": null,
   "metadata": {
    "collapsed": true
   },
   "outputs": [],
   "source": []
  },
  {
   "cell_type": "code",
   "execution_count": null,
   "metadata": {
    "collapsed": true
   },
   "outputs": [],
   "source": []
  }
 ],
 "metadata": {
  "kernelspec": {
   "display_name": "Python 3",
   "language": "python",
   "name": "python3"
  },
  "language_info": {
   "codemirror_mode": {
    "name": "ipython",
    "version": 3
   },
   "file_extension": ".py",
   "mimetype": "text/x-python",
   "name": "python",
   "nbconvert_exporter": "python",
   "pygments_lexer": "ipython3",
   "version": "3.4.3"
  }
 },
 "nbformat": 4,
 "nbformat_minor": 0
}
